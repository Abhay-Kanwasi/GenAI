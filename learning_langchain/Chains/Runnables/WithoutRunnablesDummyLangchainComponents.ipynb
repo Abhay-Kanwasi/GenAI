{
 "cells": [
  {
   "cell_type": "code",
   "id": "initial_id",
   "metadata": {
    "collapsed": true,
    "ExecuteTime": {
     "end_time": "2025-09-29T17:03:50.978036Z",
     "start_time": "2025-09-29T17:03:50.962399Z"
    }
   },
   "source": [
    "import random\n",
    "\n",
    "class DummyLLLM:\n",
    "    def __init__(self):\n",
    "        print(\"Initializing DummyLLLM\")\n",
    "\n",
    "    def predict(self, prompt):\n",
    "        response_list = [\n",
    "            'This is response 1',\n",
    "            'This is response 2',\n",
    "            'This is response 3',\n",
    "        ]\n",
    "        return {'response' : f'Prompt: {prompt} Response: {random.choice(response_list)}'}"
   ],
   "outputs": [],
   "execution_count": 67
  },
  {
   "metadata": {
    "ExecuteTime": {
     "end_time": "2025-09-29T17:03:50.993701Z",
     "start_time": "2025-09-29T17:03:50.984507Z"
    }
   },
   "cell_type": "code",
   "source": [
    "llm = DummyLLLM()\n",
    "llm.predict('What is llm?')"
   ],
   "id": "74dd7adbf93f399a",
   "outputs": [
    {
     "name": "stdout",
     "output_type": "stream",
     "text": [
      "Initializing DummyLLLM\n"
     ]
    },
    {
     "data": {
      "text/plain": [
       "{'response': 'Prompt: What is llm? Response: This is response 2'}"
      ]
     },
     "execution_count": 68,
     "metadata": {},
     "output_type": "execute_result"
    }
   ],
   "execution_count": 68
  },
  {
   "metadata": {
    "ExecuteTime": {
     "end_time": "2025-09-29T17:03:51.025500Z",
     "start_time": "2025-09-29T17:03:51.009369Z"
    }
   },
   "cell_type": "code",
   "source": [
    "class DummyPromptTemplate:\n",
    "    def __init__(self, template, input_variables):\n",
    "        self.template = template\n",
    "        self.input_variables = input_variables\n",
    "\n",
    "    def format(self, input_dict):\n",
    "        return self.template.format(**input_dict)"
   ],
   "id": "463e8a25539d4712",
   "outputs": [],
   "execution_count": 69
  },
  {
   "metadata": {
    "ExecuteTime": {
     "end_time": "2025-09-29T17:03:51.048958Z",
     "start_time": "2025-09-29T17:03:51.025500Z"
    }
   },
   "cell_type": "code",
   "source": [
    "template = DummyPromptTemplate(\n",
    "    template='Can you write something about {topic} of {length} length',\n",
    "    input_variables=['topic']\n",
    ")"
   ],
   "id": "75581daf537f16d5",
   "outputs": [],
   "execution_count": 70
  },
  {
   "metadata": {
    "ExecuteTime": {
     "end_time": "2025-09-29T17:03:51.064709Z",
     "start_time": "2025-09-29T17:03:51.049356Z"
    }
   },
   "cell_type": "code",
   "source": "prompt = template.format({'topic': 'India', 'length': 'short'})",
   "id": "b4b13cc82e1c41c3",
   "outputs": [],
   "execution_count": 71
  },
  {
   "metadata": {
    "ExecuteTime": {
     "end_time": "2025-09-29T17:03:51.080503Z",
     "start_time": "2025-09-29T17:03:51.069927Z"
    }
   },
   "cell_type": "code",
   "source": "llm = DummyLLLM()",
   "id": "4c27aeee44c4ae3",
   "outputs": [
    {
     "name": "stdout",
     "output_type": "stream",
     "text": [
      "Initializing DummyLLLM\n"
     ]
    }
   ],
   "execution_count": 72
  },
  {
   "metadata": {
    "ExecuteTime": {
     "end_time": "2025-09-29T17:03:51.096262Z",
     "start_time": "2025-09-29T17:03:51.084518Z"
    }
   },
   "cell_type": "code",
   "source": "llm.predict(prompt)",
   "id": "1eb21ed9906f3c20",
   "outputs": [
    {
     "data": {
      "text/plain": [
       "{'response': 'Prompt: Can you write something about India of short length Response: This is response 3'}"
      ]
     },
     "execution_count": 73,
     "metadata": {},
     "output_type": "execute_result"
    }
   ],
   "execution_count": 73
  },
  {
   "metadata": {
    "ExecuteTime": {
     "end_time": "2025-09-29T17:03:51.112260Z",
     "start_time": "2025-09-29T17:03:51.096262Z"
    }
   },
   "cell_type": "code",
   "source": [
    "class DummyLLMChain:\n",
    "    def __init__(self, llm, prompt):\n",
    "        self.llm = llm\n",
    "        self.prompt = prompt\n",
    "\n",
    "    def run(self, input_dict):\n",
    "        final_prompt = self.prompt.format(**input_dict)\n",
    "        result = self.llm.predict(final_prompt)\n",
    "        return result['response']\n",
    "\n",
    "chain = DummyLLMChain(llm, prompt)\n"
   ],
   "id": "5ea686cc0327bba9",
   "outputs": [],
   "execution_count": 74
  },
  {
   "metadata": {
    "ExecuteTime": {
     "end_time": "2025-09-29T17:03:51.127995Z",
     "start_time": "2025-09-29T17:03:51.112260Z"
    }
   },
   "cell_type": "code",
   "source": "chain.run({'length': 'short', 'topic': 'India'})",
   "id": "9123f070423b55f1",
   "outputs": [
    {
     "data": {
      "text/plain": [
       "'Prompt: Can you write something about India of short length Response: This is response 2'"
      ]
     },
     "execution_count": 75,
     "metadata": {},
     "output_type": "execute_result"
    }
   ],
   "execution_count": 75
  }
 ],
 "metadata": {
  "kernelspec": {
   "display_name": "Python 3",
   "language": "python",
   "name": "python3"
  },
  "language_info": {
   "codemirror_mode": {
    "name": "ipython",
    "version": 2
   },
   "file_extension": ".py",
   "mimetype": "text/x-python",
   "name": "python",
   "nbconvert_exporter": "python",
   "pygments_lexer": "ipython2",
   "version": "2.7.6"
  }
 },
 "nbformat": 4,
 "nbformat_minor": 5
}
